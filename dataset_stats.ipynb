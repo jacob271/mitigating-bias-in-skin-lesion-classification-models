{
 "cells": [
  {
   "cell_type": "code",
   "execution_count": null,
   "metadata": {
    "collapsed": true,
    "pycharm": {
     "name": "#%%\n"
    }
   },
   "outputs": [],
   "source": [
    "import pandas\n",
    "from matplotlib import pyplot as plt\n",
    "import torch\n",
    "from torch.utils.data import DataLoader\n",
    "from dataset import get_dataset"
   ]
  },
  {
   "cell_type": "code",
   "execution_count": null,
   "outputs": [],
   "source": [
    "df_images = pandas.read_csv(\"data/ISIC2018_Task3_Training_GroundTruth/ISIC2018_Task3_Training_GroundTruth.csv\")\n",
    "\n",
    "print(df_images.head())\n",
    "print(\"-------------------------\")\n",
    "print(f\"Number of images: {len(df_images.index)}\")\n",
    "for column in df_images:\n",
    "    if column == \"image\":\n",
    "        continue\n",
    "    print(f\"Number of {column} images: {len(df_images[df_images[column] == 1].index)}\")\n",
    "\n",
    "\n",
    "df_metadata = pandas.read_csv(\"data/ISIC2018_Task3_Training_GroundTruth/metadata.csv\")\n",
    "print(f\"Unique age values: {df_metadata['age_approx'].unique()}\")\n",
    "print(f\"Unique values diagnosis_confirm_type: {df_metadata['diagnosis_confirm_type'].unique()}\")\n",
    "print(f\"Unique values diagnosis: {df_metadata['diagnosis'].unique()}\")\n",
    "\n",
    "for column in df_images:\n",
    "    stats = {\"male\": 0, \"female\": 0,\n",
    "             \"age\": {\"85.0\": 0, \"80.0\": 0, \"75.0\": 0, \"70.0\": 0, \"65.0\": 0, \"60.0\": 0, \"55.0\": 0, \"50.0\": 0, \"45.0\": 0, \"40.0\": 0, \"35.0\": 0, \"30.0\": 0, \"25.0\": 0, \"20.0\": 0, \"15.0\": 0, \"10.0\": 0, \"5.0\": 0, \"0.0\": 0, \"nan\": 0},\n",
    "             \"diagnosis_confirm_type\": {'histopathology': 0, 'single image expert consensus': 0, 'serial imaging showing no change': 0, 'confocal microscopy with consensus dermoscopy': 0}\n",
    "             }\n",
    "    if column == \"image\":\n",
    "        continue\n",
    "    for isic_id in df_images[df_images[column] == 1][\"image\"]:\n",
    "        if len(df_metadata[df_metadata[\"isic_id\"] == isic_id][\"sex\"].index) != 0 and df_metadata[df_metadata[\"isic_id\"] == isic_id][\"sex\"].iloc[0] == \"male\":\n",
    "            stats[\"male\"] = stats[\"male\"] + 1\n",
    "        else:\n",
    "            stats[\"female\"] = stats[\"female\"] + 1\n",
    "\n",
    "        age = df_metadata[df_metadata[\"isic_id\"] == isic_id][\"age_approx\"]\n",
    "        if len(age.index) != 0:\n",
    "            stats[\"age\"][str(age.iloc[0])] = stats[\"age\"][str(age.iloc[0])] + 1\n",
    "        else:\n",
    "            stats[\"age\"][\"nan\"] = stats[\"age\"][\"nan\"] + 1\n",
    "\n",
    "        diagnosis_confirm_type = df_metadata[df_metadata[\"isic_id\"] == isic_id][\"diagnosis_confirm_type\"].iloc[0]\n",
    "        stats[\"diagnosis_confirm_type\"][diagnosis_confirm_type] = stats[\"diagnosis_confirm_type\"][diagnosis_confirm_type] + 1\n",
    "    plt.title(f\"Age distribution for class {column}\")\n",
    "    plt.xlabel(\"Age\")\n",
    "    plt.ylabel(\"Number of images\")\n",
    "    plt.bar(stats[\"age\"].keys(), stats[\"age\"].values(), width=1.0)\n",
    "    plt.xticks(rotation=45, ha='right')\n",
    "    plt.show()\n",
    "    print(f\"Stats for {column}:\")\n",
    "    stats.pop(\"age\")\n",
    "    print(stats)"
   ],
   "metadata": {
    "collapsed": false,
    "pycharm": {
     "name": "#%%\n"
    }
   }
  },
  {
   "cell_type": "code",
   "execution_count": null,
   "outputs": [],
   "source": [
    "# Calculate the mean and std of images\n",
    "data_set = get_dataset(dataset_name=\"train\", force_test_transform=True, under_sampling=\"True\")\n",
    "# Adapted from: https://www.binarystudy.com/2022/04/how-to-normalize-image-dataset-inpytorch.html\n",
    "data_loader = DataLoader(data_set, batch_size=64, shuffle=True, drop_last=False, pin_memory=False, num_workers=1)\n",
    "cnt = 0\n",
    "fst_moment = torch.empty(3)\n",
    "snd_moment = torch.empty(3)\n",
    "\n",
    "for images, _ in data_loader:\n",
    "    b, c, h, w = images.shape\n",
    "    nb_pixels = b * h * w\n",
    "    sum_ = torch.sum(images, dim=[0, 2, 3])\n",
    "    sum_of_square = torch.sum(images ** 2, dim=[0, 2, 3])\n",
    "    fst_moment = (cnt * fst_moment + sum_) / (cnt + nb_pixels)\n",
    "    snd_moment = (cnt * snd_moment + sum_of_square) / (cnt + nb_pixels)\n",
    "    cnt += nb_pixels\n",
    "\n",
    "mean, std = fst_moment, torch.sqrt(snd_moment - fst_moment ** 2)\n",
    "\n",
    "print(\"mean and std: \\n\", mean, std)"
   ],
   "metadata": {
    "collapsed": false,
    "pycharm": {
     "name": "#%%\n"
    }
   }
  }
 ],
 "metadata": {
  "kernelspec": {
   "display_name": "Python 3",
   "language": "python",
   "name": "python3"
  },
  "language_info": {
   "codemirror_mode": {
    "name": "ipython",
    "version": 2
   },
   "file_extension": ".py",
   "mimetype": "text/x-python",
   "name": "python",
   "nbconvert_exporter": "python",
   "pygments_lexer": "ipython2",
   "version": "2.7.6"
  }
 },
 "nbformat": 4,
 "nbformat_minor": 0
}