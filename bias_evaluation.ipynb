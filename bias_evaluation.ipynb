{
 "cells": [
  {
   "cell_type": "code",
   "execution_count": 1,
   "metadata": {
    "pycharm": {
     "name": "#%%\n"
    }
   },
   "outputs": [
    {
     "name": "stderr",
     "output_type": "stream",
     "text": [
      "\u001b[34m\u001b[1mwandb\u001b[0m: Currently logged in as: \u001b[33mjacob314\u001b[0m. Use \u001b[1m`wandb login --relogin`\u001b[0m to force relogin\n"
     ]
    },
    {
     "data": {
      "text/html": [
       "wandb version 0.15.3 is available!  To upgrade, please run:\n",
       " $ pip install wandb --upgrade"
      ],
      "text/plain": [
       "<IPython.core.display.HTML object>"
      ]
     },
     "metadata": {},
     "output_type": "display_data"
    },
    {
     "data": {
      "text/html": [
       "Tracking run with wandb version 0.15.1"
      ],
      "text/plain": [
       "<IPython.core.display.HTML object>"
      ]
     },
     "metadata": {},
     "output_type": "display_data"
    },
    {
     "data": {
      "text/html": [
       "Run data is saved locally in <code>./wandb/run-20230604_154236-x70yk430</code>"
      ],
      "text/plain": [
       "<IPython.core.display.HTML object>"
      ]
     },
     "metadata": {},
     "output_type": "display_data"
    },
    {
     "data": {
      "text/html": [
       "Syncing run <strong><a href='https://wandb.ai/jacob314/bias-skin-lesion-detection/runs/x70yk430' target=\"_blank\">glamorous-monkey-121</a></strong> to <a href='https://wandb.ai/jacob314/bias-skin-lesion-detection' target=\"_blank\">Weights & Biases</a> (<a href='https://wandb.me/run' target=\"_blank\">docs</a>)<br/>"
      ],
      "text/plain": [
       "<IPython.core.display.HTML object>"
      ]
     },
     "metadata": {},
     "output_type": "display_data"
    },
    {
     "data": {
      "text/html": [
       " View project at <a href='https://wandb.ai/jacob314/bias-skin-lesion-detection' target=\"_blank\">https://wandb.ai/jacob314/bias-skin-lesion-detection</a>"
      ],
      "text/plain": [
       "<IPython.core.display.HTML object>"
      ]
     },
     "metadata": {},
     "output_type": "display_data"
    },
    {
     "data": {
      "text/html": [
       " View run at <a href='https://wandb.ai/jacob314/bias-skin-lesion-detection/runs/x70yk430' target=\"_blank\">https://wandb.ai/jacob314/bias-skin-lesion-detection/runs/x70yk430</a>"
      ],
      "text/plain": [
       "<IPython.core.display.HTML object>"
      ]
     },
     "metadata": {},
     "output_type": "display_data"
    }
   ],
   "source": [
    "%load_ext autoreload\n",
    "%autoreload 2\n",
    "\n",
    "import torch\n",
    "from resnet_module import ResNetModel\n",
    "\n",
    "from resnet_training import get_predictions, plot_confusion_matrix, calculate_gender_bias, calculate_age_bias"
   ]
  },
  {
   "cell_type": "code",
   "execution_count": 2,
   "metadata": {
    "pycharm": {
     "name": "#%%\n"
    }
   },
   "outputs": [
    {
     "name": "stderr",
     "output_type": "stream",
     "text": [
      "GPU available: True (cuda), used: True\n",
      "TPU available: False, using: 0 TPU cores\n",
      "IPU available: False, using: 0 IPUs\n",
      "HPU available: False, using: 0 HPUs\n",
      "You are using a CUDA device ('NVIDIA A100-PCIE-40GB') that has Tensor Cores. To properly utilize them, you should set `torch.set_float32_matmul_precision('medium' | 'high')` which will trade-off precision for performance. For more details, read https://pytorch.org/docs/stable/generated/torch.set_float32_matmul_precision.html#torch.set_float32_matmul_precision\n",
      "LOCAL_RANK: 0 - CUDA_VISIBLE_DEVICES: [0,1,2,3]\n",
      "/home/jschaefer/mitigating-bias-in-skin-lesion-detection-models/jsvenv/lib/python3.10/site-packages/pytorch_lightning/trainer/connectors/data_connector.py:430: PossibleUserWarning: The dataloader, predict_dataloader, does not have many workers which may be a bottleneck. Consider increasing the value of the `num_workers` argument` (try 64 which is the number of cpus on this machine) in the `DataLoader` init to improve performance.\n",
      "  rank_zero_warn(\n"
     ]
    },
    {
     "data": {
      "application/vnd.jupyter.widget-view+json": {
       "model_id": "5f477f2fd00948cb9a09c58e3fd787ca",
       "version_major": 2,
       "version_minor": 0
      },
      "text/plain": [
       "Predicting: 0it [00:00, ?it/s]"
      ]
     },
     "metadata": {},
     "output_type": "display_data"
    }
   ],
   "source": [
    "# Evaluate overall accuracy\n",
    "device = torch.device(\"cuda:0\") if torch.cuda.is_available() else torch.device(\"cpu\")\n",
    "\n",
    "\n",
    "model = ResNetModel.load_from_checkpoint('./bias-skin-lesion-detection/gv546zt3/checkpoints/resnet18.cpkt', map_location=device)\n",
    "\n",
    "predictions, all_labels = get_predictions(model)"
   ]
  },
  {
   "cell_type": "code",
   "execution_count": 6,
   "metadata": {
    "pycharm": {
     "name": "#%%\n"
    }
   },
   "outputs": [
    {
     "name": "stderr",
     "output_type": "stream",
     "text": [
      "/home/jschaefer/mitigating-bias-in-skin-lesion-detection-models/jsvenv/lib/python3.10/site-packages/pytorch_lightning/loggers/wandb.py:395: UserWarning: There is a wandb run already in progress and newly created instances of `WandbLogger` will reuse this run. If this is not desired, call `wandb.finish()` before instantiating `WandbLogger`.\n",
      "  rank_zero_warn(\n"
     ]
    },
    {
     "data": {
      "image/png": "[encoded data removed]",
      "text/plain": [
       "<Figure size 640x480 with 2 Axes>"
      ]
     },
     "metadata": {},
     "output_type": "display_data"
    }
   ],
   "source": [
    "# Plot confusion matrix\n",
    "\n",
    "plot_confusion_matrix(predictions, all_labels)"
   ]
  },
  {
   "cell_type": "code",
   "execution_count": 7,
   "metadata": {
    "pycharm": {
     "name": "#%%\n"
    }
   },
   "outputs": [
    {
     "name": "stdout",
     "output_type": "stream",
     "text": [
      "Observed 248 labels out of 1390 to be unknown\n",
      "male_acc: 0.6235679388046265\n",
      "female_acc: 0.6478342413902283\n",
      "bias: 0.00029442672058799246\n"
     ]
    },
    {
     "data": {
      "text/plain": [
       "{'male_acc': 0.6235679388046265,\n",
       " 'female_acc': 0.6478342413902283,\n",
       " 'bias': 0.00029442672058799246}"
      ]
     },
     "execution_count": 7,
     "metadata": {},
     "output_type": "execute_result"
    }
   ],
   "source": [
    "# Evaluate bias based on sex\n",
    "calculate_gender_bias(predictions, all_labels)"
   ]
  },
  {
   "cell_type": "code",
   "execution_count": 8,
   "metadata": {
    "pycharm": {
     "name": "#%%\n"
    }
   },
   "outputs": [
    {
     "name": "stdout",
     "output_type": "stream",
     "text": [
      "Observed 0 ages out of 1390 to be unknown\n",
      "upto30 has 153 samples\n",
      "35to55 has 606 samples\n",
      "60up has 631 samples\n",
      "unknown has 0 samples\n",
      "accuracies: {'upto30': 0.3202614486217499, '35to55': 0.7260726094245911, '60up': 0.48969894647598267}\n",
      "bias: 0.041544045407832485\n"
     ]
    },
    {
     "data": {
      "text/plain": [
       "{'accuracies': {'upto30': 0.3202614486217499,\n",
       "  '35to55': 0.7260726094245911,\n",
       "  '60up': 0.48969894647598267},\n",
       " 'bias': 0.041544045407832485}"
      ]
     },
     "execution_count": 8,
     "metadata": {},
     "output_type": "execute_result"
    }
   ],
   "source": [
    "# Evaluate bias based on age groups\n",
    "\n",
    "calculate_age_bias(predictions, all_labels)"
   ]
  },
  {
   "cell_type": "markdown",
   "metadata": {
    "pycharm": {
     "name": "#%% md\n"
    }
   },
   "source": [
    "\n",
    "## Resnet without new sample probs\n",
    "\n",
    "upto30 has 153 samples\n",
    "35to55 has 606 samples\n",
    "60up has 631 samples\n",
    "-10.0 has 0 samples\n",
    "{'upto30': 0.24836601316928864, '35to55': 0.6716171503067017, '60up': 0.48335975408554077}\n",
    "overall_accuracy: 0.539568305015564\n",
    "bias: 0.0449674050983165\n",
    "\n",
    "## Resnet with new sample probs\n",
    "\n",
    "upto30 has 153 samples\n",
    "35to55 has 606 samples\n",
    "60up has 631 samples\n",
    "-10.0 has 0 samples\n",
    "{'upto30': 0.32679739594459534, '35to55': 0.6881188154220581, '60up': 0.4358161687850952}\n",
    "overall_accuracy: 0.533812940120697\n",
    "bias: 0.034349147750812214\n"
   ]
  },
  {
   "cell_type": "code",
   "execution_count": null,
   "metadata": {},
   "outputs": [],
   "source": []
  }
 ],
 "metadata": {
  "kernelspec": {
   "display_name": "Python 3 (ipykernel)",
   "language": "python",
   "name": "python3"
  },
  "language_info": {
   "codemirror_mode": {
    "name": "ipython",
    "version": 3
   },
   "file_extension": ".py",
   "mimetype": "text/x-python",
   "name": "python",
   "nbconvert_exporter": "python",
   "pygments_lexer": "ipython3",
   "version": "3.10.6"
  }
 },
 "nbformat": 4,
 "nbformat_minor": 1
}
