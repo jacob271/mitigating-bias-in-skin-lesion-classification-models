{
 "cells": [
  {
   "cell_type": "code",
   "execution_count": null,
   "metadata": {
    "pycharm": {
     "name": "#%%\n"
    }
   },
   "outputs": [],
   "source": [
    "%load_ext autoreload\n",
    "%autoreload 2\n",
    "\n",
    "import torch\n",
    "from resnet_module import ResNetModel\n",
    "import wandb\n",
    "\n",
    "from resnet_training import get_predictions, plot_confusion_matrix, calculate_gender_bias, calculate_age_bias"
   ]
  },
  {
   "cell_type": "code",
   "execution_count": null,
   "metadata": {},
   "outputs": [],
   "source": [
    "debiasing_runs = [\"folm5wbd\", \"00riantl\", \"uiznsjjj\", \"30y8q6vf\", \"hi6ej7fl\", \"nl10rh1v\", \"xfh2oa3v\", \"i8zwc0lj\", \"062eb1li\", \"79uu4gax\"]\n",
    "no_debiasing_runs = [\"kzozqfbw\", \"kdt4bf3x\", \"k7w8ngzr\", \"w572bz9r\", \"9e0j4szk\", \"3x8qz40u\", \"n3w92l9t\", \"ylc3xokv\", \"w2fevh40\", \"5guuqk3t\"]"
   ]
  },
  {
   "cell_type": "code",
   "execution_count": null,
   "metadata": {
    "pycharm": {
     "name": "#%%\n"
    }
   },
   "outputs": [],
   "source": [
    "device = torch.device(\"cuda:0\") if torch.cuda.is_available() else torch.device(\"cpu\")\n",
    "\n",
    "for run in debiasing_runs:\n",
    "    checkpoint_dir = f'./bias-skin-lesion-detection/{run}/checkpoints/'\n",
    "    file_name = os.listdir(directory)[0]\n",
    "    model_path = os.join(checkpoint_dir, file_name)\n",
    "    \n",
    "    model = ResNetModel.load_from_checkpoint(model_path, map_location=device)\n",
    "    predictions, all_labels = get_predictions(model)\n",
    "    \n",
    "    metric = trochmetrics.classification.BinaryAccuracy()\n",
    "    \n",
    "    calculate_gender_bias(predictions, all_labels)"
   ]
  },
  {
   "cell_type": "code",
   "execution_count": null,
   "metadata": {
    "pycharm": {
     "name": "#%%\n"
    }
   },
   "outputs": [],
   "source": [
    "# Plot confusion matrix\n",
    "\n",
    "plot_confusion_matrix(predictions, all_labels)"
   ]
  },
  {
   "cell_type": "code",
   "execution_count": null,
   "metadata": {
    "pycharm": {
     "name": "#%%\n"
    }
   },
   "outputs": [],
   "source": [
    "# Evaluate bias based on sex\n",
    "calculate_gender_bias(predictions, all_labels)"
   ]
  },
  {
   "cell_type": "code",
   "execution_count": null,
   "metadata": {
    "pycharm": {
     "name": "#%%\n"
    }
   },
   "outputs": [],
   "source": [
    "# Evaluate bias based on age groups\n",
    "\n",
    "calculate_age_bias(predictions, all_labels)"
   ]
  },
  {
   "cell_type": "code",
   "execution_count": null,
   "metadata": {},
   "outputs": [],
   "source": []
  }
 ],
 "metadata": {
  "kernelspec": {
   "display_name": "Python 3 (ipykernel)",
   "language": "python",
   "name": "python3"
  },
  "language_info": {
   "codemirror_mode": {
    "name": "ipython",
    "version": 3
   },
   "file_extension": ".py",
   "mimetype": "text/x-python",
   "name": "python",
   "nbconvert_exporter": "python",
   "pygments_lexer": "ipython3",
   "version": "3.10.6"
  }
 },
 "nbformat": 4,
 "nbformat_minor": 1
}
