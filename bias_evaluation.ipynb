{
 "cells": [
  {
   "cell_type": "code",
   "execution_count": null,
   "outputs": [],
   "source": [
    "import torch\n",
    "import torchmetrics.classification\n",
    "from torch.utils.data import DataLoader\n",
    "from torchmetrics import ConfusionMatrix\n",
    "\n",
    "from dataset import get_dataset\n",
    "from resnet_module import ResNetModule\n",
    "import pytorch_lightning as pl\n",
    "\n",
    "import matplotlib.pyplot as plt\n",
    "import seaborn as sns\n",
    "\n",
    "from statistics import variance"
   ],
   "metadata": {
    "collapsed": false,
    "pycharm": {
     "name": "#%%\n"
    }
   }
  },
  {
   "cell_type": "code",
   "execution_count": null,
   "outputs": [],
   "source": [
    "# Evaluate overall accuracy\n",
    "\n",
    "device = torch.device(\"cuda:0\") if torch.cuda.is_available() else torch.device(\"cpu\")\n",
    "\n",
    "model = ResNetModule.load_from_checkpoint('resnet18-1.cpkt', map_location=device)\n",
    "\n",
    "trainer = pl.Trainer(\n",
    "    accelerator=\"auto\",\n",
    "    devices=1,\n",
    "    logger=False,\n",
    ")\n",
    "\n",
    "data_set_with_metadata = get_dataset(\"test\", include_metadata=True)\n",
    "data_loader = DataLoader(data_set_with_metadata, batch_size=1, shuffle=False, drop_last=False, num_workers=1)\n",
    "\n",
    "all_labels = []\n",
    "for batch in data_loader:\n",
    "    imgs, labels = batch\n",
    "    all_labels.append(labels)\n",
    "\n",
    "print(all_labels)\n",
    "predictions = trainer.predict(model, data_loader)\n",
    "predictions = torch.cat(predictions)\n",
    "print(predictions)\n",
    "\n",
    "class_labels = []\n",
    "for label in all_labels:\n",
    "    class_labels.append(label[0])\n",
    "class_labels = torch.cat(class_labels)\n",
    "metric = torchmetrics.classification.MulticlassAccuracy(num_classes=4, average='weighted')\n",
    "overall_accuracy = metric(predictions, class_labels)\n",
    "print(f\"overall weighted accuracy: {overall_accuracy}\")"
   ],
   "metadata": {
    "collapsed": false,
    "pycharm": {
     "name": "#%%\n"
    }
   }
  },
  {
   "cell_type": "code",
   "execution_count": null,
   "outputs": [],
   "source": [
    "# Plot confusion matrix\n",
    "\n",
    "confm = ConfusionMatrix(task=\"multiclass\", num_classes=4)\n",
    "result = confm(predictions, class_labels)\n",
    "\n",
    "labels = [\"MEL\", \"NV\", \"BCC\", \"BKL\"]\n",
    "sns.heatmap(result, annot=True, cmap=\"Blues\", xticklabels=labels, yticklabels=labels)\n",
    "plt.xlabel(\"Predicted\")\n",
    "plt.ylabel(\"True\")\n",
    "plt.title(\"Confusion Matrix\")\n",
    "plt.savefig(\"conf_ma.png\")"
   ],
   "metadata": {
    "collapsed": false,
    "pycharm": {
     "name": "#%%\n"
    }
   }
  },
  {
   "cell_type": "code",
   "execution_count": null,
   "outputs": [],
   "source": [
    "# Evaluate bias based on sex\n",
    "\n",
    "male_predictions = []\n",
    "male_labels = []\n",
    "female_predictions = []\n",
    "female_labels = []\n",
    "\n",
    "for i in range(len(predictions)):\n",
    "    if all_labels[i][2][0] == 'male':\n",
    "        male_predictions.append(torch.unsqueeze(predictions[i], dim=0))\n",
    "        male_labels.append(all_labels[i][0])\n",
    "    elif all_labels[i][2][0] == 'female':\n",
    "        female_predictions.append(torch.unsqueeze(predictions[i], dim=0))\n",
    "        female_labels.append(all_labels[i][0])\n",
    "    else:\n",
    "        print(f\"unknown: {all_labels[i][2]}\")\n",
    "\n",
    "print(male_labels)\n",
    "print(male_predictions)\n",
    "\n",
    "metric = torchmetrics.classification.MulticlassAccuracy(num_classes=4, average='weighted')\n",
    "\n",
    "male_accuracy = metric(torch.cat(male_predictions), torch.cat(male_labels))\n",
    "female_accuracy = metric(torch.cat(female_predictions), torch.cat(female_labels))\n",
    "\n",
    "print(f\"male_acc: {male_accuracy}\")\n",
    "print(f\"female_acc: {female_accuracy}\")\n",
    "print(f\"bias: {variance([male_accuracy.item(), female_accuracy.item()])}\")"
   ],
   "metadata": {
    "collapsed": false,
    "pycharm": {
     "name": "#%%\n"
    }
   }
  },
  {
   "cell_type": "code",
   "execution_count": null,
   "outputs": [],
   "source": [
    "# Evaluate bias based on age groups\n",
    "\n",
    "age_groups = [\"upto30\", \"35to55\", \"60up\", \"unknown\"]\n",
    "age_based_predictions = {\"upto30\": [], \"35to55\": [], \"60up\": [], \"unknown\": []}\n",
    "age_labels = {\"upto30\": [], \"35to55\": [], \"60up\": [], \"unknown\": []}\n",
    "\n",
    "for i in range(len(predictions)):\n",
    "    age = all_labels[i][1][0].item()\n",
    "    if age <= 0.0:\n",
    "        age_group = \"unknown\"\n",
    "    if age <= 30.0:\n",
    "        age_group = \"upto30\"\n",
    "    elif age_group <= 55.0:\n",
    "        age_group = \"35to55\"\n",
    "    else:\n",
    "        age_group = \"60up\"\n",
    "    \n",
    "    age_based_predictions[age_group].append(torch.unsqueeze(predictions[i], dim=0))\n",
    "    age_labels[age_group].append(all_labels[i][0])\n",
    "\n",
    "accuracies = {}\n",
    "acc_list = []\n",
    "for age_group in age_groups:\n",
    "    print(f\"{age_group} has {len(age_based_predictions[age_group])} samples\")\n",
    "    if age_group == \"unknown\":\n",
    "        continue\n",
    "    if len(age_based_predictions[age_group]) > 0:\n",
    "        accuracies[age_group] = metric(torch.cat(age_based_predictions[age_group]), torch.cat(age_labels[age_group])).item()\n",
    "        acc_list.append(accuracies[age_group])\n",
    "    else:\n",
    "        print(\"WARNING: No samples for this age group\")\n",
    "\n",
    "print(f\"accuracies: {accuracies}\")\n",
    "print(f\"bias: {variance(acc_list)}\")"
   ],
   "metadata": {
    "collapsed": false,
    "pycharm": {
     "name": "#%%\n"
    }
   }
  },
  {
   "cell_type": "markdown",
   "source": [
    "\n",
    "## Resnet without new sample probs\n",
    "\n",
    "upto30 has 153 samples\n",
    "35to55 has 606 samples\n",
    "60up has 631 samples\n",
    "-10.0 has 0 samples\n",
    "{'upto30': 0.24836601316928864, '35to55': 0.6716171503067017, '60up': 0.48335975408554077}\n",
    "overall_accuracy: 0.539568305015564\n",
    "bias: 0.0449674050983165\n",
    "\n",
    "## Resnet with new sample probs\n",
    "\n",
    "upto30 has 153 samples\n",
    "35to55 has 606 samples\n",
    "60up has 631 samples\n",
    "-10.0 has 0 samples\n",
    "{'upto30': 0.32679739594459534, '35to55': 0.6881188154220581, '60up': 0.4358161687850952}\n",
    "overall_accuracy: 0.533812940120697\n",
    "bias: 0.034349147750812214\n"
   ],
   "metadata": {
    "collapsed": false,
    "pycharm": {
     "name": "#%% md\n"
    }
   }
  },
  {
   "cell_type": "markdown",
   "metadata": {},
   "source": [
    "\n",
    "## Resnet without new sample probs\n",
    "\n",
    "upto30 has 153 samples\n",
    "35to55 has 606 samples\n",
    "60up has 631 samples\n",
    "-10.0 has 0 samples\n",
    "{'upto30': 0.24836601316928864, '35to55': 0.6716171503067017, '60up': 0.48335975408554077}\n",
    "overall_accuracy: 0.539568305015564\n",
    "bias: 0.0449674050983165\n",
    "\n",
    "## Resnet with new sample probs\n",
    "\n",
    "upto30 has 153 samples\n",
    "35to55 has 606 samples\n",
    "60up has 631 samples\n",
    "-10.0 has 0 samples\n",
    "{'upto30': 0.32679739594459534, '35to55': 0.6881188154220581, '60up': 0.4358161687850952}\n",
    "overall_accuracy: 0.533812940120697\n",
    "bias: 0.034349147750812214\n"
   ]
  }
 ],
 "metadata": {
  "kernelspec": {
   "display_name": "Python 3 (ipykernel)",
   "language": "python",
   "name": "python3"
  },
  "language_info": {
   "codemirror_mode": {
    "name": "ipython",
    "version": 3
   },
   "file_extension": ".py",
   "mimetype": "text/x-python",
   "name": "python",
   "nbconvert_exporter": "python",
   "pygments_lexer": "ipython3",
   "version": "3.10.6"
  }
 },
 "nbformat": 4,
 "nbformat_minor": 1
}