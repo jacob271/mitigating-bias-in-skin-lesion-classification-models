{
 "cells": [
  {
   "cell_type": "code",
   "execution_count": 1,
   "metadata": {
    "collapsed": true,
    "pycharm": {
     "name": "#%%\n"
    }
   },
   "outputs": [],
   "source": [
    "import math\n",
    "\n",
    "import torch\n",
    "import torchmetrics.classification\n",
    "from torch.utils.data import DataLoader\n",
    "from torchmetrics import ConfusionMatrix\n",
    "\n",
    "from dataset import val_set_with_metadata\n",
    "from main import ResNetModel\n",
    "import pytorch_lightning as pl\n",
    "\n",
    "import matplotlib.pyplot as plt\n",
    "import seaborn as sns\n"
   ]
  },
  {
   "cell_type": "code",
   "execution_count": null,
   "outputs": [],
   "source": [
    "device = torch.device(\"cuda:0\") if torch.cuda.is_available() else torch.device(\"cpu\")\n",
    "\n",
    "model = ResNetModel.load_from_checkpoint('resnet18-1.cpkt', map_location=device)\n",
    "\n",
    "trainer = pl.Trainer(\n",
    "    # We run on a single GPU (if possible)\n",
    "    accelerator=\"auto\",\n",
    "    devices=1,\n",
    "    # How many epochs to train for if no patience is set\n",
    "    max_epochs=10,\n",
    "    logger=False,\n",
    ")\n",
    "\n",
    "\n",
    "val_loader = DataLoader(val_set_with_metadata, batch_size=1, shuffle=False, drop_last=False, num_workers=1)\n",
    "\n",
    "all_labels = []\n",
    "for batch in val_loader:\n",
    "    imgs, labels = batch\n",
    "    all_labels.append(labels)\n",
    "\n",
    "print(all_labels)\n",
    "predictions = trainer.predict(model, val_loader)\n",
    "predictions = torch.cat(predictions)\n",
    "print(predictions)\n"
   ],
   "metadata": {
    "collapsed": false,
    "pycharm": {
     "name": "#%%\n"
    }
   }
  },
  {
   "cell_type": "code",
   "execution_count": null,
   "outputs": [],
   "source": [
    "confm = ConfusionMatrix(task=\"multiclass\", num_classes=4)\n",
    "\n",
    "confm_labels = []\n",
    "for label in all_labels:\n",
    "    confm_labels.append(label[0])\n",
    "\n",
    "confm_labels = torch.cat(confm_labels)\n",
    "\n",
    "result = confm(predictions, confm_labels)\n",
    "\n",
    "labels = [\"MEL\", \"NV\", \"BCC\", \"BKL\"]\n",
    "sns.heatmap(result, annot=True, cmap=\"Blues\", xticklabels=labels, yticklabels=labels)\n",
    "plt.xlabel(\"Predicted\")\n",
    "plt.ylabel(\"True\")\n",
    "plt.title(\"Confusion Matrix\")\n",
    "plt.savefig(\"conf_ma.png\")\n",
    "\n",
    "# wandb.log({\"confma\": wandb.Image(\"conf_ma.png\")})\n"
   ],
   "metadata": {
    "collapsed": false,
    "pycharm": {
     "name": "#%%\n"
    }
   }
  },
  {
   "cell_type": "code",
   "execution_count": null,
   "outputs": [],
   "source": [
    "# calculate accuracy based on sex\n",
    "\n",
    "male_predictions = []\n",
    "male_labels = []\n",
    "female_predictions = []\n",
    "female_labels = []\n",
    "\n",
    "for i in range(len(predictions)):\n",
    "    if all_labels[i][2][0] == 'male':\n",
    "        male_predictions.append(torch.unsqueeze(predictions[i], dim=0))\n",
    "        male_labels.append(all_labels[i][0])\n",
    "    elif all_labels[i][2][0] == 'female':\n",
    "        female_predictions.append(torch.unsqueeze(predictions[i], dim=0))\n",
    "        female_labels.append(all_labels[i][0])\n",
    "    else:\n",
    "        print(f\"unknown: {all_labels[i][2]}\")\n",
    "\n",
    "print(male_labels)\n",
    "print(male_predictions)\n",
    "\n",
    "metric = torchmetrics.classification.MulticlassAccuracy(num_classes=4, average='weighted')\n",
    "\n",
    "male_accuracy = metric(torch.cat(male_predictions), torch.cat(male_labels))\n",
    "female_accuracy = metric(torch.cat(female_predictions), torch.cat(female_labels))\n",
    "\n",
    "overall_accuracy = metric(predictions, confm_labels)\n",
    "\n",
    "#wandb.log({\"overall_accuracy\": overall_accuracy})\n",
    "#wandb.log({\"male_accuracy\": male_accuracy})\n",
    "print(f\"male_acc: {male_accuracy}\")\n",
    "#wandb.log({\"female_accuracy\": female_accuracy})\n",
    "print(f\"female_acc: {female_accuracy}\")\n",
    "\n",
    "bias = (math.pow(male_accuracy - overall_accuracy, 2) + math.pow(female_accuracy - overall_accuracy, 2)) / 2\n",
    "\n",
    "print(f\"bias: {bias}\")\n",
    "#wandb.log({\"bias\": bias})\n"
   ],
   "metadata": {
    "collapsed": false,
    "pycharm": {
     "name": "#%%\n"
    }
   }
  }
 ],
 "metadata": {
  "kernelspec": {
   "display_name": "Python 3",
   "language": "python",
   "name": "python3"
  },
  "language_info": {
   "codemirror_mode": {
    "name": "ipython",
    "version": 2
   },
   "file_extension": ".py",
   "mimetype": "text/x-python",
   "name": "python",
   "nbconvert_exporter": "python",
   "pygments_lexer": "ipython2",
   "version": "2.7.6"
  }
 },
 "nbformat": 4,
 "nbformat_minor": 0
}