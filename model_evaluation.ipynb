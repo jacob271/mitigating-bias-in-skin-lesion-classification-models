{
 "cells": [
  {
   "cell_type": "code",
   "execution_count": 23,
   "metadata": {
    "pycharm": {
     "name": "#%%\n"
    }
   },
   "outputs": [],
   "source": [
    "import math\n",
    "\n",
    "import torch\n",
    "import torchmetrics.classification\n",
    "from torch.utils.data import DataLoader\n",
    "from torchmetrics import ConfusionMatrix\n",
    "\n",
    "from dataset import val_set_with_metadata\n",
    "from main import ResNetModel\n",
    "import pytorch_lightning as pl\n",
    "\n",
    "import matplotlib.pyplot as plt\n",
    "import seaborn as sns\n",
    "\n",
    "from statistics import variance"
   ]
  },
  {
   "cell_type": "code",
   "execution_count": 24,
   "metadata": {
    "pycharm": {
     "name": "#%%\n"
    }
   },
   "outputs": [
    {
     "name": "stderr",
     "output_type": "stream",
     "text": [
      "GPU available: True (cuda), used: True\n",
      "TPU available: False, using: 0 TPU cores\n",
      "IPU available: False, using: 0 IPUs\n",
      "HPU available: False, using: 0 HPUs\n",
      "You are using a CUDA device ('NVIDIA A100-PCIE-40GB') that has Tensor Cores. To properly utilize them, you should set `torch.set_float32_matmul_precision('medium' | 'high')` which will trade-off precision for performance. For more details, read https://pytorch.org/docs/stable/generated/torch.set_float32_matmul_precision.html#torch.set_float32_matmul_precision\n",
      "LOCAL_RANK: 0 - CUDA_VISIBLE_DEVICES: [0,1,2,3]\n"
     ]
    },
    {
     "name": "stdout",
     "output_type": "stream",
     "text": [
      "[[tensor([1]), tensor([60.], dtype=torch.float64), ('female',)], [tensor([1]), tensor([70.], dtype=torch.float64), ('male',)], [tensor([2]), tensor([70.], dtype=torch.float64), ('male',)], [tensor([1]), tensor([70.], dtype=torch.float64), ('male',)], [tensor([1]), tensor([30.], dtype=torch.float64), ('female',)], [tensor([3]), tensor([80.], dtype=torch.float64), ('male',)], [tensor([1]), tensor([45.], dtype=torch.float64), ('male',)], [tensor([0]), tensor([80.], dtype=torch.float64), ('male',)], [tensor([1]), tensor([40.], dtype=torch.float64), ('female',)], [tensor([1]), tensor([75.], dtype=torch.float64), ('male',)], [tensor([2]), tensor([65.], dtype=torch.float64), ('male',)], [tensor([1]), tensor([45.], dtype=torch.float64), ('female',)], [tensor([1]), tensor([50.], dtype=torch.float64), ('female',)], [tensor([1]), tensor([35.], dtype=torch.float64), ('female',)], [tensor([2]), tensor([70.], dtype=torch.float64), ('male',)], [tensor([1]), tensor([35.], dtype=torch.float64), ('male',)], [tensor([1]), tensor([60.], dtype=torch.float64), ('female',)], [tensor([1]), tensor([35.], dtype=torch.float64), ('male',)], [tensor([1]), tensor([35.], dtype=torch.float64), ('female',)], [tensor([0]), tensor([65.], dtype=torch.float64), ('male',)], [tensor([2]), tensor([65.], dtype=torch.float64), ('male',)], [tensor([3]), tensor([60.], dtype=torch.float64), ('female',)], [tensor([2]), tensor([65.], dtype=torch.float64), ('male',)], [tensor([1]), tensor([45.], dtype=torch.float64), ('female',)], [tensor([1]), tensor([40.], dtype=torch.float64), ('male',)], [tensor([1]), tensor([45.], dtype=torch.float64), ('female',)], [tensor([1]), tensor([45.], dtype=torch.float64), ('male',)], [tensor([1]), tensor([45.], dtype=torch.float64), ('male',)], [tensor([1]), tensor([40.], dtype=torch.float64), ('female',)], [tensor([0]), tensor([65.], dtype=torch.float64), ('female',)], [tensor([1]), tensor([70.], dtype=torch.float64), ('female',)], [tensor([1]), tensor([50.], dtype=torch.float64), ('male',)], [tensor([1]), tensor([45.], dtype=torch.float64), ('male',)], [tensor([1]), tensor([65.], dtype=torch.float64), ('male',)], [tensor([3]), tensor([80.], dtype=torch.float64), ('male',)], [tensor([2]), tensor([65.], dtype=torch.float64), ('male',)], [tensor([3]), tensor([65.], dtype=torch.float64), ('male',)], [tensor([1]), tensor([60.], dtype=torch.float64), ('male',)], [tensor([1]), tensor([65.], dtype=torch.float64), ('male',)], [tensor([1]), tensor([50.], dtype=torch.float64), ('female',)], [tensor([3]), tensor([80.], dtype=torch.float64), ('male',)], [tensor([1]), tensor([65.], dtype=torch.float64), ('male',)], [tensor([3]), tensor([70.], dtype=torch.float64), ('male',)], [tensor([1]), tensor([45.], dtype=torch.float64), ('male',)], [tensor([1]), tensor([60.], dtype=torch.float64), ('female',)], [tensor([3]), tensor([60.], dtype=torch.float64), ('male',)], [tensor([1]), tensor([65.], dtype=torch.float64), ('female',)], [tensor([1]), tensor([70.], dtype=torch.float64), ('female',)], [tensor([3]), tensor([60.], dtype=torch.float64), ('male',)], [tensor([0]), tensor([50.], dtype=torch.float64), ('female',)], [tensor([1]), tensor([50.], dtype=torch.float64), ('male',)], [tensor([1]), tensor([70.], dtype=torch.float64), ('female',)], [tensor([1]), tensor([65.], dtype=torch.float64), ('male',)], [tensor([1]), tensor([35.], dtype=torch.float64), ('female',)], [tensor([0]), tensor([80.], dtype=torch.float64), ('male',)], [tensor([0]), tensor([65.], dtype=torch.float64), ('female',)], [tensor([2]), tensor([65.], dtype=torch.float64), ('male',)], [tensor([1]), tensor([60.], dtype=torch.float64), ('male',)], [tensor([0]), tensor([70.], dtype=torch.float64), ('male',)], [tensor([3]), tensor([75.], dtype=torch.float64), ('female',)], [tensor([1]), tensor([30.], dtype=torch.float64), ('male',)], [tensor([3]), tensor([70.], dtype=torch.float64), ('male',)], [tensor([1]), tensor([35.], dtype=torch.float64), ('male',)], [tensor([1]), tensor([75.], dtype=torch.float64), ('female',)], [tensor([1]), tensor([45.], dtype=torch.float64), ('female',)], [tensor([0]), tensor([65.], dtype=torch.float64), ('female',)], [tensor([1]), tensor([45.], dtype=torch.float64), ('female',)], [tensor([1]), tensor([55.], dtype=torch.float64), ('male',)], [tensor([0]), tensor([50.], dtype=torch.float64), ('female',)], [tensor([1]), tensor([40.], dtype=torch.float64), ('male',)], [tensor([1]), tensor([35.], dtype=torch.float64), ('female',)], [tensor([1]), tensor([45.], dtype=torch.float64), ('male',)], [tensor([1]), tensor([20.], dtype=torch.float64), ('female',)], [tensor([2]), tensor([85.], dtype=torch.float64), ('male',)], [tensor([2]), tensor([65.], dtype=torch.float64), ('male',)], [tensor([2]), tensor([70.], dtype=torch.float64), ('male',)], [tensor([1]), tensor([35.], dtype=torch.float64), ('male',)], [tensor([1]), tensor([40.], dtype=torch.float64), ('female',)], [tensor([2]), tensor([65.], dtype=torch.float64), ('male',)], [tensor([3]), tensor([60.], dtype=torch.float64), ('male',)], [tensor([1]), tensor([70.], dtype=torch.float64), ('male',)], [tensor([3]), tensor([45.], dtype=torch.float64), ('male',)], [tensor([1]), tensor([50.], dtype=torch.float64), ('female',)], [tensor([1]), tensor([30.], dtype=torch.float64), ('female',)], [tensor([2]), tensor([65.], dtype=torch.float64), ('male',)], [tensor([1]), tensor([55.], dtype=torch.float64), ('female',)], [tensor([1]), tensor([55.], dtype=torch.float64), ('female',)], [tensor([1]), tensor([50.], dtype=torch.float64), ('male',)], [tensor([1]), tensor([45.], dtype=torch.float64), ('male',)], [tensor([1]), tensor([50.], dtype=torch.float64), ('male',)], [tensor([1]), tensor([55.], dtype=torch.float64), ('female',)], [tensor([1]), tensor([35.], dtype=torch.float64), ('male',)], [tensor([1]), tensor([65.], dtype=torch.float64), ('male',)], [tensor([1]), tensor([75.], dtype=torch.float64), ('male',)], [tensor([1]), tensor([40.], dtype=torch.float64), ('female',)], [tensor([1]), tensor([55.], dtype=torch.float64), ('male',)], [tensor([1]), tensor([50.], dtype=torch.float64), ('female',)], [tensor([1]), tensor([60.], dtype=torch.float64), ('female',)], [tensor([1]), tensor([60.], dtype=torch.float64), ('male',)], [tensor([1]), tensor([45.], dtype=torch.float64), ('female',)], [tensor([1]), tensor([50.], dtype=torch.float64), ('female',)], [tensor([0]), tensor([60.], dtype=torch.float64), ('female',)], [tensor([1]), tensor([75.], dtype=torch.float64), ('male',)], [tensor([1]), tensor([40.], dtype=torch.float64), ('female',)], [tensor([1]), tensor([35.], dtype=torch.float64), ('male',)], [tensor([1]), tensor([35.], dtype=torch.float64), ('female',)], [tensor([1]), tensor([70.], dtype=torch.float64), ('male',)], [tensor([1]), tensor([65.], dtype=torch.float64), ('female',)], [tensor([1]), tensor([50.], dtype=torch.float64), ('male',)], [tensor([0]), tensor([70.], dtype=torch.float64), ('male',)], [tensor([1]), tensor([55.], dtype=torch.float64), ('male',)], [tensor([1]), tensor([45.], dtype=torch.float64), ('female',)], [tensor([1]), tensor([35.], dtype=torch.float64), ('female',)], [tensor([1]), tensor([75.], dtype=torch.float64), ('male',)], [tensor([3]), tensor([85.], dtype=torch.float64), ('male',)], [tensor([1]), tensor([35.], dtype=torch.float64), ('male',)], [tensor([3]), tensor([80.], dtype=torch.float64), ('male',)], [tensor([1]), tensor([45.], dtype=torch.float64), ('female',)], [tensor([1]), tensor([45.], dtype=torch.float64), ('male',)], [tensor([0]), tensor([70.], dtype=torch.float64), ('male',)], [tensor([1]), tensor([45.], dtype=torch.float64), ('female',)], [tensor([0]), tensor([65.], dtype=torch.float64), ('female',)], [tensor([3]), tensor([85.], dtype=torch.float64), ('female',)], [tensor([1]), tensor([55.], dtype=torch.float64), ('male',)], [tensor([1]), tensor([30.], dtype=torch.float64), ('female',)], [tensor([1]), tensor([45.], dtype=torch.float64), ('male',)], [tensor([1]), tensor([55.], dtype=torch.float64), ('female',)], [tensor([1]), tensor([50.], dtype=torch.float64), ('male',)], [tensor([1]), tensor([55.], dtype=torch.float64), ('male',)], [tensor([1]), tensor([60.], dtype=torch.float64), ('male',)], [tensor([1]), tensor([75.], dtype=torch.float64), ('male',)], [tensor([3]), tensor([60.], dtype=torch.float64), ('male',)], [tensor([0]), tensor([50.], dtype=torch.float64), ('female',)], [tensor([1]), tensor([65.], dtype=torch.float64), ('male',)], [tensor([1]), tensor([70.], dtype=torch.float64), ('male',)], [tensor([1]), tensor([85.], dtype=torch.float64), ('male',)], [tensor([0]), tensor([65.], dtype=torch.float64), ('male',)], [tensor([2]), tensor([65.], dtype=torch.float64), ('male',)], [tensor([1]), tensor([60.], dtype=torch.float64), ('male',)], [tensor([1]), tensor([65.], dtype=torch.float64), ('male',)], [tensor([0]), tensor([50.], dtype=torch.float64), ('female',)], [tensor([1]), tensor([50.], dtype=torch.float64), ('male',)], [tensor([1]), tensor([45.], dtype=torch.float64), ('female',)], [tensor([3]), tensor([65.], dtype=torch.float64), ('female',)], [tensor([2]), tensor([85.], dtype=torch.float64), ('male',)], [tensor([0]), tensor([65.], dtype=torch.float64), ('male',)], [tensor([1]), tensor([35.], dtype=torch.float64), ('male',)], [tensor([1]), tensor([40.], dtype=torch.float64), ('male',)], [tensor([3]), tensor([50.], dtype=torch.float64), ('male',)], [tensor([1]), tensor([50.], dtype=torch.float64), ('female',)], [tensor([0]), tensor([85.], dtype=torch.float64), ('female',)], [tensor([3]), tensor([50.], dtype=torch.float64), ('male',)], [tensor([0]), tensor([65.], dtype=torch.float64), ('male',)], [tensor([1]), tensor([45.], dtype=torch.float64), ('male',)], [tensor([1]), tensor([50.], dtype=torch.float64), ('female',)], [tensor([0]), tensor([70.], dtype=torch.float64), ('male',)], [tensor([1]), tensor([30.], dtype=torch.float64), ('female',)], [tensor([1]), tensor([35.], dtype=torch.float64), ('male',)], [tensor([3]), tensor([85.], dtype=torch.float64), ('male',)], [tensor([1]), tensor([50.], dtype=torch.float64), ('male',)], [tensor([1]), tensor([40.], dtype=torch.float64), ('female',)], [tensor([1]), tensor([30.], dtype=torch.float64), ('female',)], [tensor([0]), tensor([70.], dtype=torch.float64), ('male',)], [tensor([3]), tensor([85.], dtype=torch.float64), ('male',)], [tensor([1]), tensor([50.], dtype=torch.float64), ('female',)], [tensor([1]), tensor([55.], dtype=torch.float64), ('male',)], [tensor([1]), tensor([20.], dtype=torch.float64), ('male',)], [tensor([1]), tensor([70.], dtype=torch.float64), ('male',)], [tensor([1]), tensor([35.], dtype=torch.float64), ('female',)], [tensor([1]), tensor([60.], dtype=torch.float64), ('male',)], [tensor([1]), tensor([65.], dtype=torch.float64), ('male',)], [tensor([1]), tensor([50.], dtype=torch.float64), ('female',)], [tensor([1]), tensor([60.], dtype=torch.float64), ('female',)], [tensor([1]), tensor([40.], dtype=torch.float64), ('male',)], [tensor([1]), tensor([50.], dtype=torch.float64), ('female',)], [tensor([1]), tensor([5.], dtype=torch.float64), ('male',)], [tensor([1]), tensor([50.], dtype=torch.float64), ('male',)], [tensor([1]), tensor([60.], dtype=torch.float64), ('female',)], [tensor([3]), tensor([50.], dtype=torch.float64), ('male',)], [tensor([1]), tensor([40.], dtype=torch.float64), ('female',)], [tensor([2]), tensor([70.], dtype=torch.float64), ('male',)]]\n"
     ]
    },
    {
     "data": {
      "application/vnd.jupyter.widget-view+json": {
       "model_id": "80185c432f044922bb7aad3eca61f2e3",
       "version_major": 2,
       "version_minor": 0
      },
      "text/plain": [
       "Predicting: 0it [00:00, ?it/s]"
      ]
     },
     "metadata": {},
     "output_type": "display_data"
    },
    {
     "name": "stdout",
     "output_type": "stream",
     "text": [
      "tensor([2, 1, 2, 1, 1, 0, 1, 0, 1, 1, 2, 0, 1, 1, 2, 0, 2, 3, 1, 0, 2, 3, 2, 1,\n",
      "        1, 1, 1, 1, 1, 3, 1, 1, 2, 0, 3, 2, 3, 2, 1, 1, 3, 1, 3, 1, 2, 3, 1, 1,\n",
      "        3, 0, 1, 3, 3, 1, 0, 3, 2, 1, 3, 2, 1, 3, 1, 0, 0, 3, 3, 1, 2, 1, 1, 1,\n",
      "        1, 2, 2, 2, 1, 1, 2, 3, 1, 2, 1, 1, 2, 1, 1, 1, 1, 1, 1, 0, 1, 1, 1, 1,\n",
      "        0, 3, 0, 1, 2, 0, 1, 1, 1, 1, 0, 1, 2, 0, 1, 1, 0, 3, 0, 3, 2, 1, 0, 0,\n",
      "        1, 3, 3, 1, 1, 0, 1, 1, 2, 0, 0, 3, 3, 3, 1, 1, 3, 2, 0, 1, 0, 1, 1, 3,\n",
      "        2, 3, 0, 3, 3, 2, 3, 3, 0, 0, 2, 0, 2, 0, 3, 2, 2, 2, 0, 0, 0, 1, 1, 1,\n",
      "        2, 1, 3, 1, 3, 1, 1, 1, 1, 1, 3, 2, 2])\n"
     ]
    }
   ],
   "source": [
    "device = torch.device(\"cuda:0\") if torch.cuda.is_available() else torch.device(\"cpu\")\n",
    "\n",
    "model = ResNetModel.load_from_checkpoint('resnet18-1.cpkt', map_location=device)\n",
    "\n",
    "trainer = pl.Trainer(\n",
    "    # We run on a single GPU (if possible)\n",
    "    accelerator=\"auto\",\n",
    "    devices=1,\n",
    "    # How many epochs to train for if no patience is set\n",
    "    max_epochs=10,\n",
    "    logger=False,\n",
    ")\n",
    "\n",
    "\n",
    "val_loader = DataLoader(val_set_with_metadata, batch_size=1, shuffle=False, drop_last=False, num_workers=1)\n",
    "\n",
    "all_labels = []\n",
    "for batch in val_loader:\n",
    "    imgs, labels = batch\n",
    "    all_labels.append(labels)\n",
    "\n",
    "print(all_labels)\n",
    "predictions = trainer.predict(model, val_loader)\n",
    "predictions = torch.cat(predictions)\n",
    "print(predictions)\n"
   ]
  },
  {
   "cell_type": "code",
   "execution_count": 25,
   "metadata": {
    "pycharm": {
     "name": "#%%\n"
    }
   },
   "outputs": [
    {
     "data": {
      "image/png": "[encoded data removed]",
      "text/plain": [
       "<Figure size 640x480 with 2 Axes>"
      ]
     },
     "metadata": {},
     "output_type": "display_data"
    }
   ],
   "source": [
    "confm = ConfusionMatrix(task=\"multiclass\", num_classes=4)\n",
    "\n",
    "confm_labels = []\n",
    "for label in all_labels:\n",
    "    confm_labels.append(label[0])\n",
    "\n",
    "confm_labels = torch.cat(confm_labels)\n",
    "\n",
    "result = confm(predictions, confm_labels)\n",
    "\n",
    "labels = [\"MEL\", \"NV\", \"BCC\", \"BKL\"]\n",
    "sns.heatmap(result, annot=True, cmap=\"Blues\", xticklabels=labels, yticklabels=labels)\n",
    "plt.xlabel(\"Predicted\")\n",
    "plt.ylabel(\"True\")\n",
    "plt.title(\"Confusion Matrix\")\n",
    "plt.savefig(\"conf_ma.png\")\n",
    "\n",
    "# wandb.log({\"confma\": wandb.Image(\"conf_ma.png\")})\n"
   ]
  },
  {
   "cell_type": "code",
   "execution_count": 28,
   "metadata": {
    "pycharm": {
     "name": "#%%\n"
    }
   },
   "outputs": [
    {
     "name": "stdout",
     "output_type": "stream",
     "text": [
      "[tensor([1]), tensor([2]), tensor([1]), tensor([3]), tensor([1]), tensor([0]), tensor([1]), tensor([2]), tensor([2]), tensor([1]), tensor([1]), tensor([0]), tensor([2]), tensor([2]), tensor([1]), tensor([1]), tensor([1]), tensor([1]), tensor([1]), tensor([1]), tensor([3]), tensor([2]), tensor([3]), tensor([1]), tensor([1]), tensor([3]), tensor([1]), tensor([3]), tensor([1]), tensor([3]), tensor([3]), tensor([1]), tensor([1]), tensor([0]), tensor([2]), tensor([1]), tensor([0]), tensor([1]), tensor([3]), tensor([1]), tensor([1]), tensor([1]), tensor([1]), tensor([2]), tensor([2]), tensor([2]), tensor([1]), tensor([2]), tensor([3]), tensor([1]), tensor([3]), tensor([2]), tensor([1]), tensor([1]), tensor([1]), tensor([1]), tensor([1]), tensor([1]), tensor([1]), tensor([1]), tensor([1]), tensor([1]), tensor([1]), tensor([1]), tensor([0]), tensor([1]), tensor([1]), tensor([3]), tensor([1]), tensor([3]), tensor([1]), tensor([0]), tensor([1]), tensor([1]), tensor([1]), tensor([1]), tensor([1]), tensor([1]), tensor([3]), tensor([1]), tensor([1]), tensor([1]), tensor([0]), tensor([2]), tensor([1]), tensor([1]), tensor([1]), tensor([2]), tensor([0]), tensor([1]), tensor([1]), tensor([3]), tensor([3]), tensor([0]), tensor([1]), tensor([0]), tensor([1]), tensor([3]), tensor([1]), tensor([0]), tensor([3]), tensor([1]), tensor([1]), tensor([1]), tensor([1]), tensor([1]), tensor([1]), tensor([1]), tensor([1]), tensor([3]), tensor([2])]\n",
      "[tensor([1]), tensor([2]), tensor([1]), tensor([0]), tensor([1]), tensor([0]), tensor([1]), tensor([2]), tensor([2]), tensor([0]), tensor([3]), tensor([0]), tensor([2]), tensor([2]), tensor([1]), tensor([1]), tensor([1]), tensor([1]), tensor([2]), tensor([0]), tensor([3]), tensor([2]), tensor([3]), tensor([2]), tensor([1]), tensor([3]), tensor([1]), tensor([3]), tensor([1]), tensor([3]), tensor([3]), tensor([1]), tensor([3]), tensor([0]), tensor([2]), tensor([1]), tensor([3]), tensor([1]), tensor([3]), tensor([1]), tensor([1]), tensor([1]), tensor([1]), tensor([2]), tensor([2]), tensor([2]), tensor([1]), tensor([2]), tensor([3]), tensor([1]), tensor([2]), tensor([2]), tensor([1]), tensor([1]), tensor([1]), tensor([0]), tensor([1]), tensor([1]), tensor([1]), tensor([0]), tensor([1]), tensor([1]), tensor([0]), tensor([2]), tensor([0]), tensor([1]), tensor([3]), tensor([0]), tensor([3]), tensor([2]), tensor([0]), tensor([0]), tensor([1]), tensor([0]), tensor([1]), tensor([2]), tensor([0]), tensor([0]), tensor([3]), tensor([3]), tensor([1]), tensor([1]), tensor([3]), tensor([2]), tensor([0]), tensor([1]), tensor([1]), tensor([2]), tensor([3]), tensor([0]), tensor([3]), tensor([3]), tensor([3]), tensor([0]), tensor([0]), tensor([0]), tensor([0]), tensor([3]), tensor([2]), tensor([0]), tensor([0]), tensor([1]), tensor([1]), tensor([1]), tensor([1]), tensor([3]), tensor([1]), tensor([1]), tensor([1]), tensor([3]), tensor([2])]\n",
      "male_acc: 0.7027027010917664\n",
      "female_acc: 0.5857143402099609\n",
      "bias: 0.00684313829090577\n"
     ]
    }
   ],
   "source": [
    "# calculate accuracy based on sex\n",
    "\n",
    "male_predictions = []\n",
    "male_labels = []\n",
    "female_predictions = []\n",
    "female_labels = []\n",
    "\n",
    "for i in range(len(predictions)):\n",
    "    if all_labels[i][2][0] == 'male':\n",
    "        male_predictions.append(torch.unsqueeze(predictions[i], dim=0))\n",
    "        male_labels.append(all_labels[i][0])\n",
    "    elif all_labels[i][2][0] == 'female':\n",
    "        female_predictions.append(torch.unsqueeze(predictions[i], dim=0))\n",
    "        female_labels.append(all_labels[i][0])\n",
    "    else:\n",
    "        print(f\"unknown: {all_labels[i][2]}\")\n",
    "\n",
    "print(male_labels)\n",
    "print(male_predictions)\n",
    "\n",
    "metric = torchmetrics.classification.MulticlassAccuracy(num_classes=4, average='weighted')\n",
    "\n",
    "male_accuracy = metric(torch.cat(male_predictions), torch.cat(male_labels))\n",
    "female_accuracy = metric(torch.cat(female_predictions), torch.cat(female_labels))\n",
    "\n",
    "overall_accuracy = metric(predictions, confm_labels)\n",
    "\n",
    "#wandb.log({\"overall_accuracy\": overall_accuracy})\n",
    "#wandb.log({\"male_accuracy\": male_accuracy})\n",
    "print(f\"male_acc: {male_accuracy}\")\n",
    "#wandb.log({\"female_accuracy\": female_accuracy})\n",
    "print(f\"female_acc: {female_accuracy}\")\n",
    "\n",
    "print(f\"bias: {variance([male_accuracy.item(), female_accuracy.item()])}\")\n"
   ]
  },
  {
   "cell_type": "code",
   "execution_count": 30,
   "metadata": {},
   "outputs": [
    {
     "name": "stdout",
     "output_type": "stream",
     "text": [
      "85.0 has 8 samples\n",
      "80.0 has 6 samples\n",
      "75.0 has 7 samples\n",
      "65.0 has 29 samples\n",
      "60.0 has 18 samples\n",
      "55.0 has 10 samples\n",
      "50.0 has 26 samples\n",
      "45.0 has 21 samples\n",
      "40.0 has 11 samples\n",
      "35.0 has 16 samples\n",
      "30.0 has 6 samples\n",
      "25.0 has 0 samples\n",
      "20.0 has 2 samples\n",
      "15.0 has 0 samples\n",
      "10.0 has 0 samples\n",
      "5.0 has 1 samples\n",
      "0.0 has 0 samples\n",
      "-10.0 has 0 samples\n",
      "{'85.0': 0.625, '80.0': 0.6666666865348816, '75.0': 0.4285714328289032, '65.0': 0.6551724076271057, '60.0': 0.5, '55.0': 0.8999999761581421, '50.0': 0.6538462042808533, '45.0': 0.6190476417541504, '40.0': 0.7272727489471436, '35.0': 0.5, '30.0': 0.6666666865348816, '20.0': 1.0, '5.0': 1.0}\n",
      "overall_accuracy: 0.6574586033821106\n",
      "bias: 0.032586921977467063\n"
     ]
    }
   ],
   "source": [
    "age_groups = [\"85.0\", \"80.0\", \"75.0\", \"65.0\", \"60.0\", \"55.0\", \"50.0\", \"45.0\", \"40.0\", \"35.0\", \"30.0\", \"25.0\", \"20.0\", \"15.0\", \"10.0\", \"5.0\", \"0.0\", \"-10.0\"]\n",
    "            \n",
    "\n",
    "age_based_predictions = {\"85.0\": [], \"80.0\": [], \"75.0\": [], \"70.0\": [], \"65.0\": [], \"60.0\": [], \"55.0\": [], \"50.0\": [], \"45.0\": [], \"40.0\": [], \"35.0\": [], \"30.0\": [], \"25.0\": [], \"20.0\": [], \"15.0\": [], \"10.0\": [], \"5.0\": [], \"0.0\": [], \"-10.0\": []}\n",
    "age_labels = {\"85.0\": [], \"80.0\": [], \"75.0\": [], \"70.0\": [], \"65.0\": [], \"60.0\": [], \"55.0\": [], \"50.0\": [], \"45.0\": [], \"40.0\": [], \"35.0\": [], \"30.0\": [], \"25.0\": [], \"20.0\": [], \"15.0\": [], \"10.0\": [], \"5.0\": [], \"0.0\": [], \"-10.0\": []}\n",
    "\n",
    "for i in range(len(predictions)):\n",
    "    age = str(all_labels[i][1][0].item())\n",
    "\n",
    "    age_based_predictions[age].append(torch.unsqueeze(predictions[i], dim=0))\n",
    "    age_labels[age].append(all_labels[i][0])\n",
    "    \n",
    "\n",
    "metric = torchmetrics.classification.MulticlassAccuracy(num_classes=4, average='weighted')\n",
    "\n",
    "accuracies = {}\n",
    "acc_list = []\n",
    "for age in age_groups:\n",
    "    print(f\"{age} has {len(age_based_predictions[age])} samples\")\n",
    "    if age == \"-10.0\":\n",
    "        continue\n",
    "    if len(age_based_predictions[age]) > 0:\n",
    "        accuracies[age] = metric(torch.cat(age_based_predictions[age]), torch.cat(age_labels[age])).item()\n",
    "        acc_list.append(accuracies[age])\n",
    "\n",
    "overall_accuracy = metric(predictions, confm_labels)\n",
    "\n",
    "print(accuracies)\n",
    "print(f\"overall_accuracy: {overall_accuracy}\")\n",
    "\n",
    "\n",
    "\n",
    "print(f\"bias: {variance(acc_list)}\")\n",
    "\n",
    "\n"
   ]
  },
  {
   "cell_type": "code",
   "execution_count": null,
   "metadata": {},
   "outputs": [],
   "source": []
  }
 ],
 "metadata": {
  "kernelspec": {
   "display_name": "Python 3 (ipykernel)",
   "language": "python",
   "name": "python3"
  },
  "language_info": {
   "codemirror_mode": {
    "name": "ipython",
    "version": 3
   },
   "file_extension": ".py",
   "mimetype": "text/x-python",
   "name": "python",
   "nbconvert_exporter": "python",
   "pygments_lexer": "ipython3",
   "version": "3.10.6"
  }
 },
 "nbformat": 4,
 "nbformat_minor": 1
}
