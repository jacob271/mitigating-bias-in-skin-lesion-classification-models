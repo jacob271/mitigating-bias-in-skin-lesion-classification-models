{
 "cells": [
  {
   "cell_type": "code",
   "execution_count": 8,
   "metadata": {
    "pycharm": {
     "name": "#%%\n"
    }
   },
   "outputs": [
    {
     "name": "stdout",
     "output_type": "stream",
     "text": [
      "The autoreload extension is already loaded. To reload it, use:\n",
      "  %reload_ext autoreload\n"
     ]
    }
   ],
   "source": [
    "%load_ext autoreload\n",
    "%autoreload 2\n",
    "\n",
    "import cv2\n",
    "import matplotlib.pyplot as plt\n",
    "import numpy as np\n",
    "from dataset import get_dataset\n",
    "import pandas as pd\n",
    "from torch.utils.data import DataLoader"
   ]
  },
  {
   "cell_type": "code",
   "execution_count": null,
   "outputs": [],
   "source": [
    "# Set the number of classes to 2 for binary classification and 4 for multiclass classification\n",
    "num_classes = 4\n",
    "\n",
    "if num_classes == 4:\n",
    "    file_name = \"skin_tones.csv\"\n",
    "else:\n",
    "    file_name = \"binary_skin_tones.csv\"\n"
   ],
   "metadata": {
    "collapsed": false,
    "pycharm": {
     "name": "#%%\n"
    }
   }
  },
  {
   "cell_type": "markdown",
   "metadata": {
    "pycharm": {
     "name": "#%% md\n"
    }
   },
   "source": [
    "## Skin BGR Bounds\n",
    "\n",
    "* Very Light\n",
    "```python\n",
    "lo = np.array([180, 180, 0])\n",
    "hi = np.array([255, 255, 255])\n",
    "```\n",
    "* Light\n",
    "```python\n",
    "lo = np.array([150, 150, 0])\n",
    "hi = np.array([200, 200, 255])\n",
    "```\n",
    "* Not Light\n",
    "```python\n",
    "lo = np.array([80, 80, 0])\n",
    "hi = np.array([150, 150, 255])\n",
    "```\n"
   ]
  },
  {
   "cell_type": "code",
   "execution_count": 9,
   "metadata": {
    "pycharm": {
     "name": "#%%\n"
    }
   },
   "outputs": [],
   "source": [
    "def determine_skin_tone(img, show=True):\n",
    "    if show:\n",
    "        figure, axes = plt.subplots(1, 5, figsize=(12, 3))\n",
    "    \n",
    "    if show:\n",
    "        axes[0].axis('off')\n",
    "        axes[0].imshow(img)\n",
    "        axes[0].set_title('Original Image')\n",
    "\n",
    "    img = cv2.cvtColor(img, cv2.COLOR_RGB2BGR)\n",
    "    blur = cv2.blur(img,(50,50))\n",
    "\n",
    "    if show:\n",
    "        axes[1].axis('off')\n",
    "        axes[1].imshow(cv2.cvtColor(blur, cv2.COLOR_BGR2RGB))\n",
    "        axes[1].set_title('Blurred Image')\n",
    "\n",
    "    lows = {'Type I': np.array([180, 180, 0]), 'Type II': np.array([150, 150, 0]), 'Type III': np.array([80, 80, 0])}\n",
    "    highs = {'Type I': np.array([255, 255, 255]), 'Type II': np.array([200, 200, 255]), 'Type III': np.array([150, 150, 255])}\n",
    "    max_black = 0\n",
    "    label = None\n",
    "    \n",
    "    for i, color in enumerate(lows.keys()):\n",
    "        mask = cv2.inRange(blur, lows[color], highs[color])\n",
    "        res = cv2.bitwise_and(blur, blur, mask=mask)\n",
    "        res_black = cv2.cvtColor(res, cv2.COLOR_RGB2GRAY)\n",
    "        num = cv2.countNonZero(res_black)\n",
    "        if num > max_black:\n",
    "            max_black = num\n",
    "            label = color\n",
    "        if show:\n",
    "            axes[i+2].axis('off')\n",
    "            axes[i+2].imshow(cv2.cvtColor(res, cv2.COLOR_BGR2RGB))\n",
    "            axes[i+2].set_title('Filter Type ' + str(i+1))\n",
    "    if show:\n",
    "        plt.tight_layout()\n",
    "        plt.show()\n",
    "    \n",
    "    return label if label is not None else 'Other'\n"
   ]
  },
  {
   "cell_type": "code",
   "execution_count": null,
   "metadata": {
    "scrolled": false,
    "pycharm": {
     "name": "#%%\n"
    }
   },
   "outputs": [],
   "source": [
    "data_set = get_dataset(\"test\", use_plain_transform=True, id_as_label=True, num_classes=num_classes)\n",
    "\n",
    "data_loader = DataLoader(data_set, batch_size=1, shuffle=False, num_workers=0)\n",
    "\n",
    "skin_tones = {\"isic_id\": [], \"skin_tone\": [], \"class_label\": []}\n",
    "counter = 0\n",
    "for batch, labels in data_loader:\n",
    "    isic_id = labels[0][0]\n",
    "    label = labels[1][0].item()\n",
    "    img = batch[0].permute(1,2,0).numpy()\n",
    "    img = img.astype(np.uint8)\n",
    "    skin_tone = determine_skin_tone(img, counter <= 20)\n",
    "    \n",
    "    skin_tones[\"skin_tone\"].append(skin_tone)\n",
    "    skin_tones[\"isic_id\"].append(isic_id)\n",
    "    skin_tones[\"class_label\"].append(label)\n",
    "    counter += 1\n",
    "\n",
    "df_skin_tones = pd.DataFrame(skin_tones)\n",
    "print(df_skin_tones['skin_tone'].value_counts())\n",
    "print(\"Type III\")\n",
    "print(df_skin_tones[df_skin_tones['skin_tone'] == 'Type III']['class_label'].value_counts())\n",
    "print(\"Type I\")\n",
    "print(df_skin_tones[df_skin_tones['skin_tone'] == 'Type I']['class_label'].value_counts())\n",
    "print(\"Type II\")\n",
    "print(df_skin_tones[df_skin_tones['skin_tone'] == 'Type II']['class_label'].value_counts())\n",
    "\n",
    "print(\"Other\")\n",
    "print(df_skin_tones[df_skin_tones['skin_tone'] == 'Other']['class_label'].value_counts())\n",
    "\n",
    "\n",
    "print(df_skin_tones)\n",
    "df_skin_tones.to_csv(f\"metadata/{file_name}\", index=False)\n"
   ]
  }
 ],
 "metadata": {
  "kernelspec": {
   "display_name": "Python 3 (ipykernel)",
   "language": "python",
   "name": "python3"
  },
  "language_info": {
   "codemirror_mode": {
    "name": "ipython",
    "version": 3
   },
   "file_extension": ".py",
   "mimetype": "text/x-python",
   "name": "python",
   "nbconvert_exporter": "python",
   "pygments_lexer": "ipython3",
   "version": "3.10.6"
  }
 },
 "nbformat": 4,
 "nbformat_minor": 4
}