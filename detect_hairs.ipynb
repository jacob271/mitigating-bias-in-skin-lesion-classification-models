{
 "cells": [
  {
   "cell_type": "code",
   "execution_count": 1,
   "metadata": {
    "pycharm": {
     "name": "#%%\n"
    }
   },
   "outputs": [],
   "source": [
    "import matplotlib.pyplot as plt\n",
    "import cv2\n",
    "import numpy as np\n",
    "import pandas as pd\n",
    "from torch.utils.data import DataLoader\n",
    "from dataset import get_dataset\n"
   ]
  },
  {
   "cell_type": "code",
   "execution_count": null,
   "metadata": {
    "pycharm": {
     "name": "#%%\n"
    }
   },
   "outputs": [],
   "source": [
    "# Set the number of classes to 2 for binary classification and 4 for multiclass classification\n",
    "num_classes = 4\n",
    "\n",
    "if num_classes == 4:\n",
    "    file_name = \"hair_densities.csv\"\n",
    "else:\n",
    "    file_name = \"binary_hair_densities.csv\""
   ]
  },
  {
   "cell_type": "code",
   "execution_count": 2,
   "metadata": {
    "pycharm": {
     "name": "#%%\n"
    }
   },
   "outputs": [],
   "source": [
    "def show(img, gray=False):\n",
    "    plt.axis('off')\n",
    "    if gray:\n",
    "        plt.imshow(img, plt.cm.binary)\n",
    "        plt.show()\n",
    "        return\n",
    "    plt.imshow(img)\n",
    "    plt.show()\n",
    "\n"
   ]
  },
  {
   "cell_type": "code",
   "execution_count": 3,
   "metadata": {
    "pycharm": {
     "name": "#%%\n"
    }
   },
   "outputs": [],
   "source": [
    "def hair_density(image, label, show_images=False):    \n",
    "    blur_image = cv2.blur(image,(10,10))\n",
    "    grayScale = cv2.cvtColor(blur_image, cv2.COLOR_RGB2GRAY)\n",
    "        \n",
    "    kernel = cv2.getStructuringElement(1,(17,17))\n",
    "    blackhat = cv2.morphologyEx(grayScale, cv2.MORPH_BLACKHAT, kernel)\n",
    "    _,threshold = cv2.threshold(blackhat,10,255,cv2.THRESH_BINARY)\n",
    "   \n",
    "    num = cv2.countNonZero(threshold)\n",
    "    size = threshold.shape[-1]*threshold.shape[1]\n",
    "    \n",
    "    if num/size >= 0.02 and show_images:\n",
    "        figure, axes = plt.subplots(1, 3, figsize=(12, 3))\n",
    "        axes[0].axis('off')\n",
    "        axes[0].imshow(image)\n",
    "        axes[0].set_title('Original Image')\n",
    "        axes[1].axis('off')\n",
    "        axes[1].imshow(grayScale, plt.cm.binary)\n",
    "        axes[1].set_title('Gray Scale')\n",
    "        axes[2].axis('off')\n",
    "        axes[2].imshow(threshold)\n",
    "        axes[2].set_title('Detected Hairs')\n",
    "        plt.show()\n",
    "    return num/size\n"
   ]
  },
  {
   "cell_type": "code",
   "execution_count": null,
   "outputs": [],
   "source": [
    "data_set = get_dataset(\"test\", use_plain_transform=True, id_as_label=True, num_classes=num_classes)\n",
    "\n",
    "data_loader = DataLoader(data_set, batch_size=1, shuffle=False, num_workers=0)\n",
    "\n",
    "hair_densities = {\"isic_id\": [], \"hair_density\": [], \"high_hair_density\": []}\n",
    "counter = 0\n",
    "if num_classes == 2:\n",
    "    label_count ={0: 0, 1:0}\n",
    "else:\n",
    "    label_count ={0: 0, 1:0, 2:0, 3:0}\n",
    "for batch, labels in data_loader:\n",
    "    isic_id = labels[0][0]\n",
    "    img = batch[0].permute(1,2,0).numpy()\n",
    "    img = img.astype(np.uint8)\n",
    "    density = hair_density(img, labels, show_images=counter < 3)\n",
    "    if density >= 0.02:\n",
    "        print(f\"Image: {counter+1}\")\n",
    "        print(isic_id)\n",
    "        label = labels[1][0].item()\n",
    "        print(labels[1][0].item())\n",
    "        print(density)\n",
    "        counter = counter + 1\n",
    "        label_count[label] = label_count[label] + 1\n",
    "    else:\n",
    "        hair_densities[\"high_hair_density\"].append(0)\n",
    "    \n",
    "    hair_densities[\"isic_id\"].append(isic_id)\n",
    "    hair_densities[\"hair_density\"].append(density)\n",
    "    \n",
    "print(f\"Found {counter} hair images\")\n",
    "print(label_count)\n",
    "\n",
    "dataframe_hair_densities = pd.DataFrame(hair_densities)\n",
    "print(dataframe_hair_densities)\n",
    "dataframe_hair_densities.to_csv(f\"metadata/{file_name}\", index=False)\n"
   ],
   "metadata": {
    "collapsed": false,
    "pycharm": {
     "name": "#%%\n"
    }
   }
  },
  {
   "cell_type": "code",
   "execution_count": null,
   "outputs": [],
   "source": [
    "# By running this cell you can check the images manually to remove false positives.\n",
    "# You will be presented with the images one by one.\n",
    "# Enter 'y' if you see hair, or anything else if not\n",
    "\n",
    "df = pd.read_csv(f\"metadata/{file_name}\")\n",
    "print(df.head())\n",
    "\n",
    "data_set = get_dataset(\"test\", use_plain_transform=True, id_as_label=True, num_classes=num_classes)\n",
    "data_loader = DataLoader(data_set, batch_size=1, shuffle=False, num_workers=0)\n",
    "\n",
    "if num_classes == 2:\n",
    "    label_count ={0: 0, 1:0}\n",
    "else:\n",
    "    label_count ={0: 0, 1:0, 2:0, 3:0}\n",
    "\n",
    "for batch, labels in data_loader:\n",
    "    isic_id = labels[0][0]\n",
    "    img = batch[0].permute(1,2,0).numpy()\n",
    "    img = img.astype(np.uint8)\n",
    "    label = labels[1][0].item()\n",
    "    if df[df['isic_id'] == isic_id]['high_hair_density'].item() == 1:\n",
    "        plt.axis('off')\n",
    "        plt.imshow(img)\n",
    "        plt.show()\n",
    "        confirm = input()\n",
    "        if confirm == \"y\":\n",
    "            label_count[label] = label_count[label]+1\n",
    "        else:\n",
    "            df.loc[df['isic_id'] == isic_id, 'high_hair_density'] = 0\n",
    "\n",
    "print(label_count)\n",
    "if num_classes == 4:\n",
    "    df.to_csv(\"hair_densities_manual.csv\", index=False)\n",
    "else:\n",
    "    df.to_csv(\"binary_hair_densities_manual.csv\", index=False)\n"
   ],
   "metadata": {
    "collapsed": false,
    "pycharm": {
     "name": "#%%\n"
    }
   }
  }
 ],
 "metadata": {
  "kernelspec": {
   "display_name": "Python 3 (ipykernel)",
   "language": "python",
   "name": "python3"
  },
  "language_info": {
   "codemirror_mode": {
    "name": "ipython",
    "version": 3
   },
   "file_extension": ".py",
   "mimetype": "text/x-python",
   "name": "python",
   "nbconvert_exporter": "python",
   "pygments_lexer": "ipython3",
   "version": "3.10.11"
  }
 },
 "nbformat": 4,
 "nbformat_minor": 1
}